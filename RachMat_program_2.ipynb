{
 "cells": [
  {
   "cell_type": "code",
   "execution_count": 1,
   "metadata": {},
   "outputs": [],
   "source": [
    "import numpy"
   ]
  },
  {
   "cell_type": "markdown",
   "metadata": {},
   "source": [
    "# Algorytm eliminacji Gaussa bez pivotingu ''generujący wyznacznik'' na przekątnej macierzy U (wykład 2 slajd 24 lub 28)"
   ]
  },
  {
   "cell_type": "markdown",
   "metadata": {},
   "source": [
    "Piotr Kędziora"
   ]
  },
  {
   "cell_type": "code",
   "execution_count": 2,
   "metadata": {},
   "outputs": [],
   "source": [
    "A = [[4, 2, 2, 1], \n",
    "    [4, 4, 2, 1],\n",
    "    [4, 8, 1, 8],\n",
    "    [16, 4, 4, 8]]"
   ]
  },
  {
   "cell_type": "code",
   "execution_count": 3,
   "metadata": {},
   "outputs": [
    {
     "name": "stdout",
     "output_type": "stream",
     "text": [
      "   4   2   2   1\n",
      "   4   4   2   1\n",
      "   4   8   1   8\n",
      "  16   4   4   8\n"
     ]
    }
   ],
   "source": [
    "print('\\n'.join([''.join(['{:4}'.format(item) for item in row]) \n",
    "      for row in A]))"
   ]
  },
  {
   "cell_type": "markdown",
   "metadata": {},
   "source": [
    "### zerowanie pierwszej kolumny"
   ]
  },
  {
   "cell_type": "code",
   "execution_count": 4,
   "metadata": {},
   "outputs": [
    {
     "name": "stdout",
     "output_type": "stream",
     "text": [
      "\n",
      "wspolczynnik: 1.0\n",
      "4-4*1.0\n",
      "4-2*1.0\n",
      "2-2*1.0\n",
      "1-1*1.0\n",
      "\n",
      "wspolczynnik: 1.0\n",
      "4-4*1.0\n",
      "8-2*1.0\n",
      "1-2*1.0\n",
      "8-1*1.0\n",
      "\n",
      "wspolczynnik: 4.0\n",
      "16-4*4.0\n",
      "4-2*4.0\n",
      "4-2*4.0\n",
      "8-1*4.0\n"
     ]
    }
   ],
   "source": [
    "for j in range(1,4):\n",
    "    a1 = A[j][0]/A[0][0]\n",
    "    print(f\"\\nwspolczynnik: {a1}\")\n",
    "    for ii, i in enumerate(A[j][:]):\n",
    "        print (f\"{i}-{A[0][ii]}*{a1}\")\n",
    "        A[j][ii]=i-A[0][ii]*a1"
   ]
  },
  {
   "cell_type": "code",
   "execution_count": 5,
   "metadata": {},
   "outputs": [
    {
     "name": "stdout",
     "output_type": "stream",
     "text": [
      "   4   2   2   1\n",
      " 0.0 2.0 0.0 0.0\n",
      " 0.0 6.0-1.0 7.0\n",
      " 0.0-4.0-4.0 4.0\n"
     ]
    }
   ],
   "source": [
    "print('\\n'.join([''.join(['{:4}'.format(item) for item in row]) for row in A]))"
   ]
  },
  {
   "cell_type": "markdown",
   "metadata": {},
   "source": [
    "### zerowanie drugiej kolumny"
   ]
  },
  {
   "cell_type": "code",
   "execution_count": 6,
   "metadata": {},
   "outputs": [
    {
     "name": "stdout",
     "output_type": "stream",
     "text": [
      "\n",
      "wspolczynnik: 3.0\n",
      "6.0-2.0*3.0\n",
      "-1.0-0.0*3.0\n",
      "7.0-0.0*3.0\n",
      "\n",
      "wspolczynnik: -2.0\n",
      "-4.0-2.0*-2.0\n",
      "-4.0-0.0*-2.0\n",
      "4.0-0.0*-2.0\n"
     ]
    }
   ],
   "source": [
    "for j in range(2,4):\n",
    "    a1 = A[j][1]/A[1][1]\n",
    "    print(f\"\\nwspolczynnik: {a1}\")\n",
    "    for ii, i in enumerate(A[j][1:][:]):\n",
    "        print (f\"{i}-{A[1][ii+1]}*{a1}\")\n",
    "        A[j][ii+1]=i-A[1][ii+1]*a1"
   ]
  },
  {
   "cell_type": "code",
   "execution_count": 7,
   "metadata": {},
   "outputs": [
    {
     "name": "stdout",
     "output_type": "stream",
     "text": [
      "   4   2   2   1\n",
      " 0.0 2.0 0.0 0.0\n",
      " 0.0 0.0-1.0 7.0\n",
      " 0.0 0.0-4.0 4.0\n"
     ]
    }
   ],
   "source": [
    "print('\\n'.join([''.join(['{:4}'.format(item) for item in row]) for row in A]))"
   ]
  },
  {
   "cell_type": "markdown",
   "metadata": {},
   "source": [
    "### zerowanie trzeciej kolumny"
   ]
  },
  {
   "cell_type": "code",
   "execution_count": 8,
   "metadata": {},
   "outputs": [
    {
     "name": "stdout",
     "output_type": "stream",
     "text": [
      "\n",
      "wspolczynnik: 4.0\n",
      "-4.0--1.0*4.0\n",
      "4.0-7.0*4.0\n"
     ]
    }
   ],
   "source": [
    "for j in range(3,4):\n",
    "    a1 = A[j][2]/A[2][2]\n",
    "    print(f\"\\nwspolczynnik: {a1}\")\n",
    "    for ii, i in enumerate(A[j][2:][:]):\n",
    "        print (f\"{i}-{A[2][ii+2]}*{a1}\")\n",
    "        A[j][ii+2]=i-A[2][ii+2]*a1"
   ]
  },
  {
   "cell_type": "code",
   "execution_count": 9,
   "metadata": {},
   "outputs": [
    {
     "name": "stdout",
     "output_type": "stream",
     "text": [
      "   4   2   2   1\n",
      " 0.0 2.0 0.0 0.0\n",
      " 0.0 0.0-1.0 7.0\n",
      " 0.0 0.0 0.0-24.0\n"
     ]
    }
   ],
   "source": [
    "print('\\n'.join([''.join(['{:4}'.format(item) for item in row]) \n",
    "      for row in A]))"
   ]
  },
  {
   "cell_type": "markdown",
   "metadata": {},
   "source": [
    "___\n",
    "# Algorytm eliminacji Gaussa z pivotingiem (wykład 2 slajd 30)"
   ]
  },
  {
   "cell_type": "code",
   "execution_count": 10,
   "metadata": {},
   "outputs": [],
   "source": [
    "ready = False"
   ]
  },
  {
   "cell_type": "code",
   "execution_count": 11,
   "metadata": {},
   "outputs": [],
   "source": [
    "A = [[2, 4, -2, -2, -4], \n",
    "    [1, 2, 4, -3, 5],\n",
    "    [-3, -3, 8, -2, 7],\n",
    "    [-1, 1, 6, -3, 7]]"
   ]
  },
  {
   "cell_type": "code",
   "execution_count": 12,
   "metadata": {},
   "outputs": [
    {
     "name": "stdout",
     "output_type": "stream",
     "text": [
      "   2   4  -2  -2  -4\n",
      "   1   2   4  -3   5\n",
      "  -3  -3   8  -2   7\n",
      "  -1   1   6  -3   7\n"
     ]
    }
   ],
   "source": [
    "print('\\n'.join([''.join(['{:4}'.format(item) for item in row]) for row in A]))"
   ]
  },
  {
   "cell_type": "markdown",
   "metadata": {},
   "source": [
    "### zerowanie pierwszej kolumny"
   ]
  },
  {
   "cell_type": "code",
   "execution_count": 13,
   "metadata": {},
   "outputs": [],
   "source": [
    "if A[1][0]==0 and A[2][1]==0 and A[3][2]==0:\n",
    "    print (\"It's ready\")\n",
    "    ready = True\n",
    "\n",
    "if A[0][0]==0:\n",
    "    p=A[0]\n",
    "    A[0]=A[3]\n",
    "    A[0]=p\n",
    "    \n",
    "if A[1][0]==0 and A[2][1]==0 and A[3][2]==0:\n",
    "    print (\"It's ready\")\n",
    "    ready = True"
   ]
  },
  {
   "cell_type": "code",
   "execution_count": 14,
   "metadata": {},
   "outputs": [
    {
     "name": "stdout",
     "output_type": "stream",
     "text": [
      "\n",
      "wspolczynnik: 0.5\n",
      "1-2*0.5\n",
      "2-4*0.5\n",
      "4--2*0.5\n",
      "-3--2*0.5\n",
      "5--4*0.5\n",
      "\n",
      "wspolczynnik: -1.5\n",
      "-3-2*-1.5\n",
      "-3-4*-1.5\n",
      "8--2*-1.5\n",
      "-2--2*-1.5\n",
      "7--4*-1.5\n",
      "\n",
      "wspolczynnik: -0.5\n",
      "-1-2*-0.5\n",
      "1-4*-0.5\n",
      "6--2*-0.5\n",
      "-3--2*-0.5\n",
      "7--4*-0.5\n"
     ]
    }
   ],
   "source": [
    "if ready==False:\n",
    "    for j in range(1,4):\n",
    "        a1 = A[j][0]/A[0][0]\n",
    "        print(f\"\\nwspolczynnik: {a1}\")\n",
    "        for ii, i in enumerate(A[j][:]):\n",
    "            print (f\"{i}-{A[0][ii]}*{a1}\")\n",
    "            A[j][ii]=i-A[0][ii]*a1"
   ]
  },
  {
   "cell_type": "code",
   "execution_count": 15,
   "metadata": {},
   "outputs": [
    {
     "name": "stdout",
     "output_type": "stream",
     "text": [
      "   2   4  -2  -2  -4\n",
      " 0.0 0.0 5.0-2.0 7.0\n",
      " 0.0 3.0 5.0-5.0 1.0\n",
      " 0.0 3.0 5.0-4.0 5.0\n"
     ]
    }
   ],
   "source": [
    "print('\\n'.join([''.join(['{:4}'.format(item) for item in row]) for row in A]))"
   ]
  },
  {
   "cell_type": "markdown",
   "metadata": {},
   "source": [
    "### zerowanie drugiej kolumny"
   ]
  },
  {
   "cell_type": "code",
   "execution_count": 16,
   "metadata": {},
   "outputs": [],
   "source": [
    "if A[1][0]==0 and A[2][1]==0 and A[3][2]==0:\n",
    "    print (\"It's ready\")\n",
    "    ready = True\n",
    "\n",
    "if A[1][1]==0:\n",
    "    p=A[1]\n",
    "    A[1]=A[3]\n",
    "    A[3]=p\n",
    "    \n",
    "if A[1][0]==0 and A[2][1]==0 and A[3][2]==0:\n",
    "    print (\"It's ready\")\n",
    "    ready = True"
   ]
  },
  {
   "cell_type": "code",
   "execution_count": 17,
   "metadata": {},
   "outputs": [
    {
     "name": "stdout",
     "output_type": "stream",
     "text": [
      "   2   4  -2  -2  -4\n",
      " 0.0 3.0 5.0-4.0 5.0\n",
      " 0.0 3.0 5.0-5.0 1.0\n",
      " 0.0 0.0 5.0-2.0 7.0\n"
     ]
    }
   ],
   "source": [
    "print('\\n'.join([''.join(['{:4}'.format(item) for item in row]) for row in A]))"
   ]
  },
  {
   "cell_type": "code",
   "execution_count": 18,
   "metadata": {},
   "outputs": [
    {
     "name": "stdout",
     "output_type": "stream",
     "text": [
      "\n",
      "wspolczynnik: 1.0\n",
      "3.0-3.0*1.0\n",
      "5.0-5.0*1.0\n",
      "-5.0--4.0*1.0\n",
      "1.0-5.0*1.0\n",
      "\n",
      "wspolczynnik: 0.0\n",
      "0.0-3.0*0.0\n",
      "5.0-5.0*0.0\n",
      "-2.0--4.0*0.0\n",
      "7.0-5.0*0.0\n"
     ]
    }
   ],
   "source": [
    "if ready==False:\n",
    "    for j in range(2,4):\n",
    "        a1 = A[j][1]/A[1][1]\n",
    "        print(f\"\\nwspolczynnik: {a1}\")\n",
    "        for ii, i in enumerate(A[j][1:][:]):\n",
    "            print (f\"{i}-{A[1][ii+1]}*{a1}\")\n",
    "            A[j][ii+1]=i-A[1][ii+1]*a1"
   ]
  },
  {
   "cell_type": "code",
   "execution_count": 19,
   "metadata": {},
   "outputs": [
    {
     "name": "stdout",
     "output_type": "stream",
     "text": [
      "   2   4  -2  -2  -4\n",
      " 0.0 3.0 5.0-4.0 5.0\n",
      " 0.0 0.0 0.0-1.0-4.0\n",
      " 0.0 0.0 5.0-2.0 7.0\n"
     ]
    }
   ],
   "source": [
    "print('\\n'.join([''.join(['{:4}'.format(item) for item in row]) for row in A]))"
   ]
  },
  {
   "cell_type": "markdown",
   "metadata": {},
   "source": [
    "### zerowanie trzeciej kolumny"
   ]
  },
  {
   "cell_type": "code",
   "execution_count": 20,
   "metadata": {},
   "outputs": [
    {
     "name": "stdout",
     "output_type": "stream",
     "text": [
      "It's ready\n"
     ]
    }
   ],
   "source": [
    "if A[1][0]==0 and A[2][1]==0 and A[3][2]==0:\n",
    "    print (\"It's ready\")\n",
    "    ready = True\n",
    "\n",
    "if A[2][2]==0:\n",
    "    p=A[2]\n",
    "    A[2]=A[3]\n",
    "    A[3]=p\n",
    "    \n",
    "if A[1][0]==0 and A[2][1]==0 and A[3][2]==0:\n",
    "    print (\"It's ready\")\n",
    "    ready = True"
   ]
  },
  {
   "cell_type": "code",
   "execution_count": 21,
   "metadata": {},
   "outputs": [
    {
     "name": "stdout",
     "output_type": "stream",
     "text": [
      "   2   4  -2  -2  -4\n",
      " 0.0 3.0 5.0-4.0 5.0\n",
      " 0.0 0.0 5.0-2.0 7.0\n",
      " 0.0 0.0 0.0-1.0-4.0\n"
     ]
    }
   ],
   "source": [
    "print('\\n'.join([''.join(['{:4}'.format(item) for item in row]) for row in A]))"
   ]
  },
  {
   "cell_type": "code",
   "execution_count": 22,
   "metadata": {},
   "outputs": [],
   "source": [
    "if ready==False:\n",
    "    for j in range(3,4):\n",
    "        a1 = A[j][2]/A[2][2]\n",
    "        print(f\"\\nwspolczynnik: {a1}\")\n",
    "        for ii, i in enumerate(A[j][2:][:]):\n",
    "            print (f\"{i}-{A[2][ii+2]}*{a1}\")\n",
    "            A[j][ii+2]=i-A[2][ii+2]*a1"
   ]
  },
  {
   "cell_type": "code",
   "execution_count": 23,
   "metadata": {},
   "outputs": [
    {
     "name": "stdout",
     "output_type": "stream",
     "text": [
      "   2   4  -2  -2  -4\n",
      " 0.0 3.0 5.0-4.0 5.0\n",
      " 0.0 0.0 5.0-2.0 7.0\n",
      " 0.0 0.0 0.0-1.0-4.0\n"
     ]
    }
   ],
   "source": [
    "print('\\n'.join([''.join(['{:4}'.format(item) for item in row]) for row in A]))"
   ]
  }
 ],
 "metadata": {
  "kernelspec": {
   "display_name": "Python 3",
   "language": "python",
   "name": "python3"
  },
  "language_info": {
   "codemirror_mode": {
    "name": "ipython",
    "version": 3
   },
   "file_extension": ".py",
   "mimetype": "text/x-python",
   "name": "python",
   "nbconvert_exporter": "python",
   "pygments_lexer": "ipython3",
   "version": "3.8.2"
  }
 },
 "nbformat": 4,
 "nbformat_minor": 4
}
