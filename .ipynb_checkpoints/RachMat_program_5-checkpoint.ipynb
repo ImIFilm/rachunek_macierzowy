{
 "cells": [
  {
   "cell_type": "code",
   "execution_count": 1,
   "metadata": {},
   "outputs": [],
   "source": [
    "import numpy as np\n",
    "from numpy import linalg as LA\n",
    "from math import sqrt\n",
    "\n",
    "np.set_printoptions(suppress=True, precision=3)"
   ]
  },
  {
   "cell_type": "markdown",
   "metadata": {},
   "source": [
    "# 2. Algorytm obliczania singular value decomposition (SVD) dla macierzy $\\|A\\|$ dla macierzy 2x3"
   ]
  },
  {
   "cell_type": "markdown",
   "metadata": {},
   "source": [
    "Piotr Kędziora"
   ]
  },
  {
   "cell_type": "code",
   "execution_count": 2,
   "metadata": {},
   "outputs": [],
   "source": [
    "def singular_values(A):\n",
    "    w, _ = LA.eig(A @ A.T)\n",
    "    sig = map(lambda x: sqrt(x), w)\n",
    "    return sorted(sig, reverse=True)"
   ]
  },
  {
   "cell_type": "code",
   "execution_count": 3,
   "metadata": {},
   "outputs": [],
   "source": [
    "def eigenvectors(M, vertical=False):\n",
    "    w, v = LA.eig(M)\n",
    "    i = np.argsort(w)[::-1]\n",
    "    if vertical:\n",
    "        return v[i]\n",
    "    else:\n",
    "        return v[:,i]"
   ]
  },
  {
   "cell_type": "code",
   "execution_count": 4,
   "metadata": {},
   "outputs": [],
   "source": [
    "def svd(A, eps=0.000001):\n",
    "    S = np.zeros((2, 3))\n",
    "    sig = singular_values(A)\n",
    "    S[0,0] = sig[0]\n",
    "    S[1,1] = sig[1]\n",
    "    \n",
    "    U = eigenvectors(A @ A.T, vertical=True)\n",
    "    V = eigenvectors(A.T @ A)\n",
    "    \n",
    "    i_u = [[], 0, 1, [0, 1]]\n",
    "    j_v = [[], 0, 1, 2, [0, 1], [0, 2], [1, 2], [0, 1, 2]]\n",
    "\n",
    "    for i in i_u:\n",
    "        for j in j_v:\n",
    "            U[i] = -U[i]\n",
    "            V[:,j] = -V[:,j]\n",
    "           \n",
    "            if LA.norm(U @ S @ V.T - A) < eps:\n",
    "                return U, S, V\n",
    "            \n",
    "            U[i] = -U[i]\n",
    "            V[:,j] = -V[:,j]\n",
    "    raise Exception('Error')"
   ]
  },
  {
   "cell_type": "code",
   "execution_count": 5,
   "metadata": {},
   "outputs": [
    {
     "name": "stdout",
     "output_type": "stream",
     "text": [
      "A\n",
      "[[1 2 0]\n",
      " [2 0 2]]\n",
      "=====\n",
      "U\n",
      "[[-0.447  0.894]\n",
      " [-0.894 -0.447]]\n",
      "S\n",
      "[[3. 0. 0.]\n",
      " [0. 2. 0.]]\n",
      "V\n",
      "[[-0.745  0.     0.667]\n",
      " [-0.298  0.894 -0.333]\n",
      " [-0.596 -0.447 -0.667]]\n",
      "=====\n",
      "A\n",
      "[[ 1.  2. -0.]\n",
      " [ 2.  0.  2.]]\n"
     ]
    }
   ],
   "source": [
    "A = np.array([[1, 2, 0], [2, 0, 2]])\n",
    "print('A')\n",
    "print(A)\n",
    "print('=====')\n",
    "\n",
    "U, S, V = svd(A)\n",
    "print('U')\n",
    "print(U)\n",
    "print('S')\n",
    "print(S)\n",
    "print('V')\n",
    "print(V)\n",
    "print('=====')\n",
    "\n",
    "print('A')\n",
    "print(U @ S @ V.T)"
   ]
  },
  {
   "cell_type": "code",
   "execution_count": null,
   "metadata": {},
   "outputs": [],
   "source": []
  }
 ],
 "metadata": {
  "kernelspec": {
   "display_name": "Python 3",
   "language": "python",
   "name": "python3"
  },
  "language_info": {
   "codemirror_mode": {
    "name": "ipython",
    "version": 3
   },
   "file_extension": ".py",
   "mimetype": "text/x-python",
   "name": "python",
   "nbconvert_exporter": "python",
   "pygments_lexer": "ipython3",
   "version": "3.7.6"
  }
 },
 "nbformat": 4,
 "nbformat_minor": 4
}
